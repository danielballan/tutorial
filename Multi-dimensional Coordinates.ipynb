{
 "cells": [
  {
   "cell_type": "markdown",
   "metadata": {},
   "source": [
    "# Multi-dimensional Coordinates"
   ]
  },
  {
   "cell_type": "code",
   "execution_count": null,
   "metadata": {},
   "outputs": [],
   "source": [
    "import pathlib \n",
    "from collections import defaultdict\n",
    "\n",
    "import h5py\n",
    "import pandas as pd\n",
    "import numpy as np\n",
    "import xarray as xr\n",
    "\n",
    "import matplotlib.pyplot as plt\n",
    "from matplotlib.colors import LogNorm,Normalize\n",
    "import matplotlib.cm as cm\n",
    "\n",
    "from bluesky_tutorial_utils import nexus, fetch"
   ]
  },
  {
   "cell_type": "code",
   "execution_count": null,
   "metadata": {},
   "outputs": [],
   "source": [
    "fetch.rsoxs_simulation_data();"
   ]
  },
  {
   "cell_type": "code",
   "execution_count": null,
   "metadata": {},
   "outputs": [],
   "source": [
    "fname = './rsoxs_simulation_data/512-512-128-5.0-40.0-00285-0360.nxs'\n",
    "da_img = nexus.read_singleimg_nxs(fname)\n",
    "da_img_chi = nexus.read_singleimg_nxs(fname,sasdata='unwrap')\n",
    "da_img"
   ]
  },
  {
   "cell_type": "markdown",
   "metadata": {},
   "source": [
    "## Extra: Multidimensional Coordinates\n",
    "\n",
    "First let's look at our initial 2D array"
   ]
  },
  {
   "cell_type": "code",
   "execution_count": null,
   "metadata": {},
   "outputs": [],
   "source": [
    "da_img"
   ]
  },
  {
   "cell_type": "markdown",
   "metadata": {},
   "source": [
    "First we make a $Q=\\sqrt{Q_{x}^2 + Q_{y}^2}$ array"
   ]
  },
  {
   "cell_type": "code",
   "execution_count": null,
   "metadata": {},
   "outputs": [],
   "source": [
    "Q = np.sqrt(da_img.Qx*da_img.Qx + da_img.Qy*da_img.Qy)\n",
    "Q.name = 'Q'\n",
    "Q.plot()\n",
    "Q"
   ]
  },
  {
   "cell_type": "markdown",
   "metadata": {},
   "source": [
    "Then we make a $\\chi= \\tan^{-1}\\left(\\frac{Q_{y}}{Q_{x}}\\right)$ array"
   ]
  },
  {
   "cell_type": "code",
   "execution_count": null,
   "metadata": {},
   "outputs": [],
   "source": [
    "CHI = np.arctan2(da_img.Qy,da_img.Qx)*180/np.pi\n",
    "CHI.name = 'χ'\n",
    "CHI.plot()\n",
    "CHI"
   ]
  },
  {
   "cell_type": "markdown",
   "metadata": {},
   "source": [
    "finally we add the new coordinates to the image dataarray"
   ]
  },
  {
   "cell_type": "code",
   "execution_count": null,
   "metadata": {},
   "outputs": [],
   "source": [
    "da = da_img.assign_coords(Q=Q,CHI=CHI)\n",
    "da"
   ]
  },
  {
   "cell_type": "markdown",
   "metadata": {},
   "source": [
    "we can use these multidimensional coordinates to extract an annulus "
   ]
  },
  {
   "cell_type": "code",
   "execution_count": null,
   "metadata": {},
   "outputs": [],
   "source": [
    "da.where(((da.Q>0.15) & (da.Q<0.35))).plot(norm=LogNorm(1e-16,1e-4))"
   ]
  },
  {
   "cell_type": "markdown",
   "metadata": {},
   "source": [
    "or a sector"
   ]
  },
  {
   "cell_type": "code",
   "execution_count": null,
   "metadata": {},
   "outputs": [],
   "source": [
    "da.where((np.abs(da.CHI)>75) & (np.abs(da.CHI)<105)).plot(norm=LogNorm(1e-16,1e-4))"
   ]
  },
  {
   "cell_type": "markdown",
   "metadata": {},
   "source": [
    "and we can *almost* do the \\chi vs q remeshing without pyFAI, but it doesn't come out quite right"
   ]
  },
  {
   "cell_type": "code",
   "execution_count": null,
   "metadata": {},
   "outputs": [],
   "source": [
    "da.plot.pcolormesh(x='Q',y='CHI')"
   ]
  },
  {
   "cell_type": "markdown",
   "metadata": {},
   "source": [
    "we can also use the multidimensional bins for groupby operations"
   ]
  },
  {
   "cell_type": "code",
   "execution_count": null,
   "metadata": {},
   "outputs": [],
   "source": [
    "for i,sda in da.groupby_bins('Q',np.geomspace(1e-3,3.0,10),restore_coord_dims=True):\n",
    "    fig,ax = plt.subplots()\n",
    "    sda.unstack().sortby(['Qx','Qy']).plot(norm=LogNorm(1e-16,1e-4))\n",
    "    ax.set(title=i)"
   ]
  },
  {
   "cell_type": "code",
   "execution_count": null,
   "metadata": {},
   "outputs": [],
   "source": [
    "group = (da\n",
    "         .groupby_bins('Q',np.geomspace(1e-3,3.0,10),restore_coord_dims=True)\n",
    "         .apply(lambda x: x.groupby_bins('CHI',np.arange(-180,180,5)).mean())\n",
    "        )\n",
    "group.plot.line(x='CHI_bins')\n",
    "plt.legend(bbox_to_anchor=(1.05,0.5),loc=6)"
   ]
  },
  {
   "cell_type": "code",
   "execution_count": null,
   "metadata": {},
   "outputs": [],
   "source": []
  }
 ],
 "metadata": {
  "kernelspec": {
   "display_name": "Python 3",
   "language": "python",
   "name": "python3"
  },
  "language_info": {
   "codemirror_mode": {
    "name": "ipython",
    "version": 3
   },
   "file_extension": ".py",
   "mimetype": "text/x-python",
   "name": "python",
   "nbconvert_exporter": "python",
   "pygments_lexer": "ipython3",
   "version": "3.7.7"
  }
 },
 "nbformat": 4,
 "nbformat_minor": 4
}
