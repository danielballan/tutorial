{
 "cells": [
  {
   "cell_type": "markdown",
   "metadata": {},
   "source": [
    "# Slice and Interpolate Image Data"
   ]
  },
  {
   "cell_type": "code",
   "execution_count": null,
   "metadata": {},
   "outputs": [],
   "source": [
    "import pathlib \n",
    "from collections import defaultdict\n",
    "\n",
    "import h5py\n",
    "import pandas as pd\n",
    "import numpy as np\n",
    "import xarray as xr\n",
    "\n",
    "import matplotlib.pyplot as plt\n",
    "from matplotlib.colors import LogNorm,Normalize\n",
    "import matplotlib.cm as cm\n",
    "\n",
    "from bluesky_tutorial_utils import nexus, fetch"
   ]
  },
  {
   "cell_type": "code",
   "execution_count": null,
   "metadata": {},
   "outputs": [],
   "source": [
    "fetch.rsoxs_simulation_data();"
   ]
  },
  {
   "cell_type": "markdown",
   "metadata": {},
   "source": [
    "## Working with a Single Image xArray"
   ]
  },
  {
   "cell_type": "code",
   "execution_count": null,
   "metadata": {},
   "outputs": [],
   "source": [
    "fname = './rsoxs_simulation_data/512-512-128-5.0-40.0-00285-0360.nxs'\n",
    "da_img = nexus.read_singleimg_nxs(fname)\n",
    "da_img_chi = nexus.read_singleimg_nxs(fname,sasdata='unwrap')\n",
    "da_img"
   ]
  },
  {
   "cell_type": "markdown",
   "metadata": {},
   "source": [
    "### Basic Slicing and Plotting \n",
    "\n",
    "First just a simple image plot on a log scale"
   ]
  },
  {
   "cell_type": "code",
   "execution_count": null,
   "metadata": {},
   "outputs": [],
   "source": [
    "da_img.plot(norm=LogNorm(1e-9,1),aspect=1.2,size=5)"
   ]
  },
  {
   "cell_type": "markdown",
   "metadata": {},
   "source": [
    "Comparison of nearest-pixel versus interpolated selection for a **horizontal line cut**"
   ]
  },
  {
   "cell_type": "code",
   "execution_count": null,
   "metadata": {},
   "outputs": [],
   "source": [
    "da_img.sel(Qy=0,method='nearest').plot(yscale='log',xscale='log',label='nearest')\n",
    "da_img.interp(Qy=0).plot(yscale='log',xscale='log',label='interp')\n",
    "plt.legend()"
   ]
  },
  {
   "cell_type": "code",
   "execution_count": null,
   "metadata": {},
   "outputs": [],
   "source": [
    "fig,axes = plt.subplots(1,3,figsize=(16,4))\n",
    "da_img_chi.plot(norm=LogNorm(1e-9,1),ax=axes[0])\n",
    "da_img_chi.sel(Q=0.25,method='nearest').plot(ax=axes[1])\n",
    "da_img_chi.sel(Q=0.35,method='nearest').plot(ax=axes[1],yscale='log')\n",
    "\n",
    "(da_img_chi.sel(Q=0.35,method='nearest')\n",
    "          .coarsen({'chi':5})\n",
    "          .mean()\n",
    "          .plot(ax=axes[1],yscale='log'))\n",
    "\n",
    "da_img_chi.mean('chi').plot(ax=axes[2],xscale='log',yscale='log',label='Full Azimuthal')\n",
    "da_img_chi.sel(chi=0,method='nearest').plot(ax=axes[2],xscale='log',yscale='log',label='Single χ')\n",
    "da_img_chi.sel(chi=np.arange(-10,10,0.1),method='nearest').mean('chi').plot(ax=axes[2],xscale='log',yscale='log',label='Sector Average')\n",
    "axes[2].legend()\n",
    "plt.tight_layout()"
   ]
  },
  {
   "cell_type": "markdown",
   "metadata": {},
   "source": [
    "### Remeshing"
   ]
  },
  {
   "cell_type": "code",
   "execution_count": null,
   "metadata": {},
   "outputs": [],
   "source": [
    "qx = np.linspace(-0.5,0.5,512)\n",
    "qy = np.linspace(-0.5,0.5,512)\n",
    "da_img_remesh = da_img.interp(Qx=qx,Qy=qy)\n",
    "da_img_remesh"
   ]
  },
  {
   "cell_type": "code",
   "execution_count": null,
   "metadata": {},
   "outputs": [],
   "source": [
    "da_img_remesh.plot(norm=LogNorm(1e-9,1),aspect=1.2,size=5)"
   ]
  }
 ],
 "metadata": {
  "kernelspec": {
   "display_name": "Python 3",
   "language": "python",
   "name": "python3"
  },
  "language_info": {
   "codemirror_mode": {
    "name": "ipython",
    "version": 3
   },
   "file_extension": ".py",
   "mimetype": "text/x-python",
   "name": "python",
   "nbconvert_exporter": "python",
   "pygments_lexer": "ipython3",
   "version": "3.7.7"
  }
 },
 "nbformat": 4,
 "nbformat_minor": 4
}
