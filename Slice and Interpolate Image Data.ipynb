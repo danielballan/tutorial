{
 "cells": [
  {
   "cell_type": "markdown",
   "metadata": {},
   "source": [
    "# Slice and Interpolate Image Data"
   ]
  },
  {
   "cell_type": "code",
   "execution_count": null,
   "metadata": {},
   "outputs": [],
   "source": [
    "import pathlib \n",
    "from collections import defaultdict\n",
    "\n",
    "import h5py\n",
    "import pandas as pd\n",
    "import numpy as np\n",
    "import xarray as xr\n",
    "\n",
    "import matplotlib.pyplot as plt\n",
    "from matplotlib.colors import LogNorm,Normalize\n",
    "import matplotlib.cm as cm\n",
    "\n",
    "from bluesky_tutorial_utils import nexus, fetch"
   ]
  },
  {
   "cell_type": "code",
   "execution_count": null,
   "metadata": {},
   "outputs": [],
   "source": [
    "fetch.rsoxs_simulation_data();"
   ]
  },
  {
   "cell_type": "markdown",
   "metadata": {},
   "source": [
    "## Working with a Single Image xArray"
   ]
  },
  {
   "cell_type": "code",
   "execution_count": null,
   "metadata": {},
   "outputs": [],
   "source": [
    "fname = './rsoxs_simulation_data/512-512-128-5.0-40.0-00285-0360.nxs'\n",
    "da_img = nexus.read_singleimg_nxs(fname)\n",
    "da_img_chi = nexus.read_singleimg_nxs(fname,sasdata='unwrap')\n",
    "da_img"
   ]
  },
  {
   "cell_type": "markdown",
   "metadata": {},
   "source": [
    "### Basic Slicing and Plotting \n",
    "\n",
    "First just a simple image plot on a log scale"
   ]
  },
  {
   "cell_type": "code",
   "execution_count": null,
   "metadata": {},
   "outputs": [],
   "source": [
    "da_img.plot(norm=LogNorm(1e-9,1),aspect=1.2,size=5)"
   ]
  },
  {
   "cell_type": "markdown",
   "metadata": {},
   "source": [
    "Comparison of nearest-pixel versus interpolated selection for a **horizontal line cut**"
   ]
  },
  {
   "cell_type": "code",
   "execution_count": null,
   "metadata": {},
   "outputs": [],
   "source": [
    "da_img.sel(Qy=0,method='nearest').plot(yscale='log',xscale='log',label='nearest')\n",
    "da_img.interp(Qy=0).plot(yscale='log',xscale='log',label='interp')\n",
    "plt.legend()"
   ]
  },
  {
   "cell_type": "code",
   "execution_count": null,
   "metadata": {},
   "outputs": [],
   "source": [
    "fig,axes = plt.subplots(1,3,figsize=(16,4))\n",
    "da_img_chi.plot(norm=LogNorm(1e-9,1),ax=axes[0])\n",
    "da_img_chi.sel(Q=0.25,method='nearest').plot(ax=axes[1])\n",
    "da_img_chi.sel(Q=0.35,method='nearest').plot(ax=axes[1],yscale='log')\n",
    "\n",
    "(da_img_chi.sel(Q=0.35,method='nearest')\n",
    "          .coarsen({'chi':5})\n",
    "          .mean()\n",
    "          .plot(ax=axes[1],yscale='log'))\n",
    "\n",
    "da_img_chi.mean('chi').plot(ax=axes[2],xscale='log',yscale='log',label='Full Azimuthal')\n",
    "da_img_chi.sel(chi=0,method='nearest').plot(ax=axes[2],xscale='log',yscale='log',label='Single χ')\n",
    "da_img_chi.sel(chi=np.arange(-10,10,0.1),method='nearest').mean('chi').plot(ax=axes[2],xscale='log',yscale='log',label='Sector Average')\n",
    "axes[2].legend()\n",
    "plt.tight_layout()"
   ]
  },
  {
   "cell_type": "markdown",
   "metadata": {},
   "source": [
    "### Remeshing"
   ]
  },
  {
   "cell_type": "code",
   "execution_count": null,
   "metadata": {},
   "outputs": [],
   "source": [
    "qx = np.linspace(-0.5,0.5,512)\n",
    "qy = np.linspace(-0.5,0.5,512)\n",
    "da_img_remesh = da_img.interp(Qx=qx,Qy=qy)\n",
    "da_img_remesh"
   ]
  },
  {
   "cell_type": "code",
   "execution_count": null,
   "metadata": {},
   "outputs": [],
   "source": [
    "da_img_remesh.plot(norm=LogNorm(1e-9,1),aspect=1.2,size=5)"
   ]
  },
  {
   "cell_type": "markdown",
   "metadata": {},
   "source": [
    "## Working with Multiple xArrays: Gathering Data"
   ]
  },
  {
   "cell_type": "markdown",
   "metadata": {},
   "source": [
    "### Build Index Table (Table of Contents)"
   ]
  },
  {
   "cell_type": "code",
   "execution_count": null,
   "metadata": {},
   "outputs": [],
   "source": [
    "def build_pandas_index(nxs_path):\n",
    "    nxs_path = pathlib.Path(nxs_path)\n",
    "    nxs_files = list(nxs_path.glob('*nxs'))\n",
    "    \n",
    "    #progress = ipywidgets.IntProgress(0,0,len(nxs_files))\n",
    "    #display(progress)\n",
    "    \n",
    "    index_table = []\n",
    "    for i,nxs_file in enumerate(nxs_files):\n",
    "        #progress.value = i\n",
    "        with h5py.File(nxs_file,'r') as nxs:\n",
    "            notes = nxs[u'entry/instrument/simulation_engine/notes']\n",
    "            config =  {k:v[()] for k,v in notes.items()}\n",
    "            config['nxs'] = nxs_file\n",
    "            index_table.append(config)\n",
    "    return pd.DataFrame(index_table)"
   ]
  },
  {
   "cell_type": "code",
   "execution_count": null,
   "metadata": {},
   "outputs": [],
   "source": [
    "toc = build_pandas_index('./rsoxs_simulation_data//')"
   ]
  },
  {
   "cell_type": "code",
   "execution_count": null,
   "metadata": {},
   "outputs": [],
   "source": [
    "toc"
   ]
  },
  {
   "cell_type": "code",
   "execution_count": null,
   "metadata": {},
   "outputs": [],
   "source": [
    "toc.describe().loc[['count','min','max']]"
   ]
  },
  {
   "cell_type": "markdown",
   "metadata": {},
   "source": [
    "### Select subset of data From Index"
   ]
  },
  {
   "cell_type": "code",
   "execution_count": null,
   "metadata": {},
   "outputs": [],
   "source": [
    "sdf = toc.query('Radius==40.0 & EndAngle==360.0 & PhysSize==5 & NumX==512')\n",
    "sdf = sdf.sort_values('Energy')\n",
    "sdf.describe().loc[['count','min','max']]"
   ]
  },
  {
   "cell_type": "markdown",
   "metadata": {},
   "source": [
    "### Gather Data"
   ]
  },
  {
   "cell_type": "code",
   "execution_count": null,
   "metadata": {},
   "outputs": [],
   "source": [
    "def gather(df):\n",
    "    coords = defaultdict(list)\n",
    "    data_arrays = []\n",
    "    for row_index,row in df.iterrows():\n",
    "        da_img = nexus.read_singleimg_nxs(row['nxs'])\n",
    "        data_arrays.append(da_img)\n",
    "        \n",
    "        for col_index,value in row.iteritems():\n",
    "            if col_index=='nxs':\n",
    "                continue\n",
    "            coords[col_index].append(value)\n",
    "    return data_arrays,coords"
   ]
  },
  {
   "cell_type": "code",
   "execution_count": null,
   "metadata": {},
   "outputs": [],
   "source": [
    "data_arrays,coords = gather(sdf)"
   ]
  },
  {
   "cell_type": "code",
   "execution_count": null,
   "metadata": {},
   "outputs": [],
   "source": [
    "data_arrays"
   ]
  },
  {
   "cell_type": "code",
   "execution_count": null,
   "metadata": {},
   "outputs": [],
   "source": [
    "coords"
   ]
  },
  {
   "cell_type": "code",
   "execution_count": null,
   "metadata": {},
   "outputs": [],
   "source": [
    "data_arrays[1].plot(norm=LogNorm(1e-9,1),aspect=1.2,size=5)"
   ]
  },
  {
   "cell_type": "markdown",
   "metadata": {},
   "source": [
    "## Multiple xArrays: simple xr.concat"
   ]
  },
  {
   "cell_type": "code",
   "execution_count": null,
   "metadata": {},
   "outputs": [],
   "source": [
    "sdf = toc.query('Radius==40.0 & EndAngle==360.0 & PhysSize==5 & NumX==512')\n",
    "sdf = sdf.sort_values('Energy')\n",
    "display(sdf.describe().loc[['count','min','max']])\n",
    "\n",
    "data_arrays,coords = gather(sdf)\n",
    "\n",
    "da = xr.concat(data_arrays,dim='Energy')\n",
    "da"
   ]
  },
  {
   "cell_type": "code",
   "execution_count": null,
   "metadata": {},
   "outputs": [],
   "source": [
    "da = da.assign_coords(Energy=sdf.Energy.values)\n",
    "da"
   ]
  },
  {
   "cell_type": "code",
   "execution_count": null,
   "metadata": {},
   "outputs": [],
   "source": [
    "da.sel(Qy=0,method='nearest').plot(norm=LogNorm(1e-9,1),yscale='log')"
   ]
  },
  {
   "cell_type": "code",
   "execution_count": null,
   "metadata": {},
   "outputs": [],
   "source": [
    "da.plot(col='Energy',col_wrap=3,norm=LogNorm(1e-9,1))"
   ]
  },
  {
   "cell_type": "markdown",
   "metadata": {},
   "source": [
    "## Building xArrays: Multi-Index"
   ]
  },
  {
   "cell_type": "code",
   "execution_count": null,
   "metadata": {},
   "outputs": [],
   "source": [
    "sdf = toc.query('EndAngle==360.0 & PhysSize==5 & NumX==512')\n",
    "sdf = sdf.sort_values(['Energy','Radius'])\n",
    "display(sdf.describe().loc[['count','min','max']])"
   ]
  },
  {
   "cell_type": "code",
   "execution_count": null,
   "metadata": {
    "tags": [
     "raises-exception"
    ]
   },
   "outputs": [],
   "source": [
    "data_arrays,coords = gather(sdf)\n",
    "\n",
    "da = xr.concat(data_arrays,dim=['Energy','Radius'])"
   ]
  },
  {
   "cell_type": "markdown",
   "metadata": {},
   "source": [
    "hmmm...that didn't work...\n",
    "\n",
    "\n",
    "Let's try a multi-index"
   ]
  },
  {
   "cell_type": "code",
   "execution_count": null,
   "metadata": {},
   "outputs": [],
   "source": [
    "keys =  ['Energy','Radius']\n",
    "tuples = [(i,j) for i,j in sdf[keys].values]\n",
    "index = pd.MultiIndex.from_tuples(tuples,names=keys)\n",
    "index.name = 'system'\n",
    "da = xr.concat(data_arrays,dim=index)\n",
    "da"
   ]
  },
  {
   "cell_type": "code",
   "execution_count": null,
   "metadata": {},
   "outputs": [],
   "source": [
    "da.sel(Energy=285.,method='nearest')"
   ]
  },
  {
   "cell_type": "code",
   "execution_count": null,
   "metadata": {},
   "outputs": [],
   "source": [
    "da.sel(Energy=285.,Qy=0,method='nearest').plot.line(x='Qx',yscale='log',xscale='log')#(norm=LogNorm(1e-9,1))"
   ]
  },
  {
   "cell_type": "code",
   "execution_count": null,
   "metadata": {},
   "outputs": [],
   "source": [
    "da.sel(Energy=285.,method='nearest').plot(col='Radius',col_wrap=3,norm=LogNorm(1e-9,1))"
   ]
  },
  {
   "cell_type": "markdown",
   "metadata": {},
   "source": [
    "## Extra: Multidimensional Coordinates\n",
    "\n",
    "First let's look at our initial 2D array"
   ]
  },
  {
   "cell_type": "code",
   "execution_count": null,
   "metadata": {},
   "outputs": [],
   "source": [
    "da_img"
   ]
  },
  {
   "cell_type": "markdown",
   "metadata": {},
   "source": [
    "First we make a $Q=\\sqrt{Q_{x}^2 + Q_{y}^2}$ array"
   ]
  },
  {
   "cell_type": "code",
   "execution_count": null,
   "metadata": {},
   "outputs": [],
   "source": [
    "Q = np.sqrt(da_img.Qx*da_img.Qx + da_img.Qy*da_img.Qy)\n",
    "Q.name = 'Q'\n",
    "Q.plot()\n",
    "Q"
   ]
  },
  {
   "cell_type": "markdown",
   "metadata": {},
   "source": [
    "Then we make a $\\chi= \\tan^{-1}\\left(\\frac{Q_{y}}{Q_{x}}\\right)$ array"
   ]
  },
  {
   "cell_type": "code",
   "execution_count": null,
   "metadata": {},
   "outputs": [],
   "source": [
    "CHI = np.arctan2(da_img.Qy,da_img.Qx)*180/np.pi\n",
    "CHI.name = 'χ'\n",
    "CHI.plot()\n",
    "CHI"
   ]
  },
  {
   "cell_type": "markdown",
   "metadata": {},
   "source": [
    "finally we add the new coordinates to the image dataarray"
   ]
  },
  {
   "cell_type": "code",
   "execution_count": null,
   "metadata": {},
   "outputs": [],
   "source": [
    "da = da_img.assign_coords(Q=Q,CHI=CHI)\n",
    "da"
   ]
  },
  {
   "cell_type": "markdown",
   "metadata": {},
   "source": [
    "we can use these multidimensional coordinates to extract an annulus "
   ]
  },
  {
   "cell_type": "code",
   "execution_count": null,
   "metadata": {},
   "outputs": [],
   "source": [
    "da.where(((da.Q>0.15) & (da.Q<0.35))).plot(norm=LogNorm(1e-16,1e-4))"
   ]
  },
  {
   "cell_type": "markdown",
   "metadata": {},
   "source": [
    "or a sector"
   ]
  },
  {
   "cell_type": "code",
   "execution_count": null,
   "metadata": {},
   "outputs": [],
   "source": [
    "da.where((np.abs(da.CHI)>75) & (np.abs(da.CHI)<105)).plot(norm=LogNorm(1e-16,1e-4))"
   ]
  },
  {
   "cell_type": "markdown",
   "metadata": {},
   "source": [
    "and we can *almost* do the \\chi vs q remeshing without pyFAI, but it doesn't come out quite right"
   ]
  },
  {
   "cell_type": "code",
   "execution_count": null,
   "metadata": {},
   "outputs": [],
   "source": [
    "da.plot.pcolormesh(x='Q',y='CHI')"
   ]
  },
  {
   "cell_type": "markdown",
   "metadata": {},
   "source": [
    "we can also use the multidimensional bins for groupby operations"
   ]
  },
  {
   "cell_type": "code",
   "execution_count": null,
   "metadata": {},
   "outputs": [],
   "source": [
    "for i,sda in da.groupby_bins('Q',np.geomspace(1e-3,3.0,10),restore_coord_dims=True):\n",
    "    fig,ax = plt.subplots()\n",
    "    sda.unstack().sortby(['Qx','Qy']).plot(norm=LogNorm(1e-16,1e-4))\n",
    "    ax.set(title=i)"
   ]
  },
  {
   "cell_type": "code",
   "execution_count": null,
   "metadata": {},
   "outputs": [],
   "source": [
    "group = (da\n",
    "         .groupby_bins('Q',np.geomspace(1e-3,3.0,10),restore_coord_dims=True)\n",
    "         .apply(lambda x: x.groupby_bins('CHI',np.arange(-180,180,5)).mean())\n",
    "        )\n",
    "group.plot.line(x='CHI_bins')\n",
    "plt.legend(bbox_to_anchor=(1.05,0.5),loc=6)"
   ]
  }
 ],
 "metadata": {
  "kernelspec": {
   "display_name": "Python 3",
   "language": "python",
   "name": "python3"
  },
  "language_info": {
   "codemirror_mode": {
    "name": "ipython",
    "version": 3
   },
   "file_extension": ".py",
   "mimetype": "text/x-python",
   "name": "python",
   "nbconvert_exporter": "python",
   "pygments_lexer": "ipython3",
   "version": "3.7.7"
  }
 },
 "nbformat": 4,
 "nbformat_minor": 4
}
